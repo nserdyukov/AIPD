{
  "cells": [
    {
      "cell_type": "markdown",
      "metadata": {
        "id": "view-in-github",
        "colab_type": "text"
      },
      "source": [
        "<a href=\"https://colab.research.google.com/github/nserdyukov/AIPD/blob/main/%D0%9B%D0%A06_%D0%A1%D0%B5%D1%80%D0%B4%D1%8E%D0%BA%D0%BE%D0%B2.ipynb\" target=\"_parent\"><img src=\"https://colab.research.google.com/assets/colab-badge.svg\" alt=\"Open In Colab\"/></a>"
      ]
    },
    {
      "cell_type": "markdown",
      "metadata": {
        "id": "8wIyzax9q7JF"
      },
      "source": [
        "## Задание"
      ]
    },
    {
      "cell_type": "markdown",
      "metadata": {
        "id": "A1UMdzQGjFix"
      },
      "source": [
        "Загрузить изображение и продемонстрировать основные возможности библиотеки Pillow"
      ]
    },
    {
      "cell_type": "markdown",
      "metadata": {
        "id": "RGlwZaXQrAfd"
      },
      "source": [
        "## Анализ задания, получение данных"
      ]
    },
    {
      "cell_type": "markdown",
      "metadata": {
        "id": "dusmGf0PoHeU"
      },
      "source": [
        "Выполним загрузку файла"
      ]
    },
    {
      "cell_type": "code",
      "execution_count": null,
      "metadata": {
        "id": "GRcewQyGh7dD"
      },
      "outputs": [],
      "source": [
        "from PIL import Image, ImageFilter\n",
        "import requests\n",
        "from io import BytesIO\n",
        "\n",
        "url = \"https://raw.githubusercontent.com/enikolaev/IT-and-Programming/main/data/pract5/cat.jpeg\"\n",
        "response = requests.get(url)\n",
        "img = Image.open(BytesIO(response.content))"
      ]
    },
    {
      "cell_type": "markdown",
      "metadata": {
        "id": "hupq--jq0PA3"
      },
      "source": [
        "Можно скопировать и поместить файл с данными любым удобным способом"
      ]
    },
    {
      "cell_type": "markdown",
      "metadata": {
        "id": "YlvR9gr-9qJY"
      },
      "source": [
        "Импортирование модуля `PIL`. После импортирования модуля откроем файл и загрузим изображение в память"
      ]
    },
    {
      "cell_type": "code",
      "execution_count": null,
      "metadata": {
        "id": "GzShFx3l0l49",
        "colab": {
          "base_uri": "https://localhost:8080/"
        },
        "outputId": "285c20b1-6255-4797-9833-b13372bc23a4"
      },
      "outputs": [
        {
          "output_type": "stream",
          "name": "stdout",
          "text": [
            "<class 'module'>\n"
          ]
        }
      ],
      "source": [
        "\n",
        "print(type(Image))\n",
        "img.show()"
      ]
    },
    {
      "cell_type": "markdown",
      "source": [
        "Фильтров достаточно много, но программист может сформировать собственное ядро фильтра для преобразования изображения. Можно реализовывать фильтры с использованием сверток размером 3x3 или 5x5"
      ],
      "metadata": {
        "id": "hacWqoMMWLQG"
      }
    },
    {
      "cell_type": "code",
      "source": [
        "\n",
        "filterred_image = img.filter(ImageFilter.Kernel((3, 3), (-1, -1, -1, -1, 9, -1, -1, -1, -1), 1, 0))\n",
        "\n",
        "filterred_image.show()"
      ],
      "metadata": {
        "id": "4iWmRJ3NRZw0"
      },
      "execution_count": null,
      "outputs": []
    }
  ],
  "metadata": {
    "colab": {
      "provenance": [],
      "include_colab_link": true
    },
    "kernelspec": {
      "display_name": "Python 3",
      "name": "python3"
    },
    "language_info": {
      "name": "python"
    }
  },
  "nbformat": 4,
  "nbformat_minor": 0
}