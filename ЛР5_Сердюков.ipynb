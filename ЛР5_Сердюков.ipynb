{
  "nbformat": 4,
  "nbformat_minor": 0,
  "metadata": {
    "colab": {
      "provenance": [],
      "include_colab_link": true
    },
    "kernelspec": {
      "name": "python3",
      "display_name": "Python 3"
    },
    "language_info": {
      "name": "python"
    }
  },
  "cells": [
    {
      "cell_type": "markdown",
      "metadata": {
        "id": "view-in-github",
        "colab_type": "text"
      },
      "source": [
        "<a href=\"https://colab.research.google.com/github/nserdyukov/AIPD/blob/main/%D0%9B%D0%A05_%D0%A1%D0%B5%D1%80%D0%B4%D1%8E%D0%BA%D0%BE%D0%B2.ipynb\" target=\"_parent\"><img src=\"https://colab.research.google.com/assets/colab-badge.svg\" alt=\"Open In Colab\"/></a>"
      ]
    },
    {
      "cell_type": "markdown",
      "source": [
        "# Практическая работа 5. Объектно-ориентированное программирование"
      ],
      "metadata": {
        "id": "C3DZeo7xi2HL"
      }
    },
    {
      "cell_type": "markdown",
      "source": [
        "![image.png](data:image/png;base64,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)"
      ],
      "metadata": {
        "id": "9iosWP_YooY5"
      }
    },
    {
      "cell_type": "markdown",
      "source": [
        "## Решение"
      ],
      "metadata": {
        "id": "nvkT7lVbGG_l"
      }
    },
    {
      "cell_type": "code",
      "source": [
        "import math\n",
        "class Cyl:\n",
        "  # Объявляем конструктор класса\n",
        "  def __init__(self, ph, pr):\n",
        "    self.h=ph\n",
        "    self.r=pr\n",
        "\n",
        "  # Объявляем метод для вычисления площади поверхности фигуры\n",
        "  def GetS(self):\n",
        "    return 2*math.pi*self.r*(self.r+self.h)\n",
        "\n",
        "  # Объявляем метод для вычисления объема\n",
        "  def GetV(self):\n",
        "    return math.pi*(self.r**2)*self.h\n",
        "\n",
        "  # Объявление метода для вывода информации о фигуре\n",
        "  def Info(self):\n",
        "    print('*'*20)\n",
        "    print('Цилиндр: \\n')\n",
        "    print('Высота: %.2f Радиус: %.2f' % (self.h, self.r))\n",
        "    print('Площадь: %.3f' % self.GetS())\n",
        "    print('Объем: %.3f' % self.GetV())ы\n",
        "    print('*'*20)\n",
        "\n",
        "  def Load(path_to_file):\n",
        "    d = open(path_to_file).read().strip().split()\n",
        "    tmp = Par(float(d[0]), float(d[0]))\n",
        "    return tmp"
      ],
      "metadata": {
        "id": "THyFl2qOJTzi"
      },
      "execution_count": null,
      "outputs": []
    },
    {
      "cell_type": "code",
      "source": [
        "# Создание объекта p1 типа Par (используется конструктор)\n",
        "p1 = Cyl(10, 5)\n",
        "# Вызов метода класса\n",
        "p1.Info()"
      ],
      "metadata": {
        "colab": {
          "base_uri": "https://localhost:8080/"
        },
        "id": "F6XZwISDLl-M",
        "outputId": "d7b0a418-030b-40a4-d982-59d57d92f296"
      },
      "execution_count": null,
      "outputs": [
        {
          "output_type": "stream",
          "name": "stdout",
          "text": [
            "********************\n",
            "Прямоугольный параллелепипед: \n",
            "\n",
            "Высота: 10.00 Радиус: 5.00\n",
            "Площадь: 471.239\n",
            "Объем: 785.398\n",
            "********************\n"
          ]
        }
      ]
    },
    {
      "cell_type": "markdown",
      "source": [
        "Изучим загрузку данных в поля класса с использованием метода `Load()`"
      ],
      "metadata": {
        "id": "dusmGf0PoHeU"
      }
    },
    {
      "cell_type": "code",
      "source": [
        "!wget https://raw.githubusercontent.com/enikolaev/IT-and-Programming/main/data/pract5/data_par.txt"
      ],
      "metadata": {
        "colab": {
          "base_uri": "https://localhost:8080/"
        },
        "id": "3y5mYTT_N7m9",
        "outputId": "df79aa23-96ec-4809-cbe4-5bf8da11a077"
      },
      "execution_count": null,
      "outputs": [
        {
          "output_type": "stream",
          "name": "stdout",
          "text": [
            "--2023-03-06 14:01:02--  https://raw.githubusercontent.com/enikolaev/IT-and-Programming/main/data/pract5/data_par.txt\n",
            "Resolving raw.githubusercontent.com (raw.githubusercontent.com)... 185.199.108.133, 185.199.109.133, 185.199.110.133, ...\n",
            "Connecting to raw.githubusercontent.com (raw.githubusercontent.com)|185.199.108.133|:443... connected.\n",
            "HTTP request sent, awaiting response... 200 OK\n",
            "Length: 16 [text/plain]\n",
            "Saving to: ‘data_par.txt’\n",
            "\n",
            "data_par.txt        100%[===================>]      16  --.-KB/s    in 0s      \n",
            "\n",
            "2023-03-06 14:01:03 (771 KB/s) - ‘data_par.txt’ saved [16/16]\n",
            "\n"
          ]
        }
      ]
    },
    {
      "cell_type": "markdown",
      "source": [
        "Выполним загрузку данных"
      ],
      "metadata": {
        "id": "KLhjLm6SObb1"
      }
    },
    {
      "cell_type": "code",
      "source": [
        "fpath='data_par.txt'\n",
        "print('Содержимое фаайла:')\n",
        "print(open(fpath).read())\n",
        "\n",
        "p2 = Par.Load(fpath)\n",
        "p2.Info()"
      ],
      "metadata": {
        "colab": {
          "base_uri": "https://localhost:8080/"
        },
        "id": "cEvievJ-OjZ5",
        "outputId": "59ac26f8-e2db-4152-dc3a-ce3338e123aa"
      },
      "execution_count": null,
      "outputs": [
        {
          "output_type": "stream",
          "name": "stdout",
          "text": [
            "Содержимое фаайла:\n",
            "23.5 60.45 50.1\n",
            "\n",
            "********************\n",
            "Прямоугольный параллелепипед: \n",
            "\n",
            "Размеры: 23.50 x 23.50 x 23.50\n",
            "Площадь: 3313.500\n",
            "Объем: 12977.875\n",
            "********************\n"
          ]
        }
      ]
    }
  ]
}