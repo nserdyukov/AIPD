{
  "nbformat": 4,
  "nbformat_minor": 0,
  "metadata": {
    "colab": {
      "provenance": [],
      "include_colab_link": true
    },
    "kernelspec": {
      "name": "python3",
      "display_name": "Python 3"
    },
    "language_info": {
      "name": "python"
    }
  },
  "cells": [
    {
      "cell_type": "markdown",
      "metadata": {
        "id": "view-in-github",
        "colab_type": "text"
      },
      "source": [
        "<a href=\"https://colab.research.google.com/github/nserdyukov/AIPD/blob/main/%D0%9B%D0%A05_%D0%A1%D0%B5%D1%80%D0%B4%D1%8E%D0%BA%D0%BE%D0%B2.ipynb\" target=\"_parent\"><img src=\"https://colab.research.google.com/assets/colab-badge.svg\" alt=\"Open In Colab\"/></a>"
      ]
    },
    {
      "cell_type": "markdown",
      "source": [
        "# Практическая работа 5. Объектно-ориентированное программирование"
      ],
      "metadata": {
        "id": "C3DZeo7xi2HL"
      }
    },
    {
      "cell_type": "markdown",
      "source": [
        "## Задание"
      ],
      "metadata": {
        "id": "8wIyzax9q7JF"
      }
    },
    {
      "cell_type": "markdown",
      "source": [
        "Разработать класс для представления объекта «Прямоугольный параллелепипед». Реализуйте все необходимые поля данных (закрытые) и методы позволяющие:\n",
        "* создавать объекты-параллелепипеды;\n",
        "* вычислять объем прямоугольного параллелепипеда;\n",
        "* вычислять площадь поверхности прямоугольного параллелепипеда;\n",
        "* выводить полную информацию об объекте в выходной файл."
      ],
      "metadata": {
        "id": "A1UMdzQGjFix"
      }
    },
    {
      "cell_type": "markdown",
      "source": [
        "## Решение"
      ],
      "metadata": {
        "id": "nvkT7lVbGG_l"
      }
    },
    {
      "cell_type": "markdown",
      "source": [
        "Решение данной задачи состоит из следующих этапов:\n",
        "проектирование класса; 2) объявление класса (кодирование); 3)\n",
        "\n",
        "1.   проектирование класса\n",
        "2.   объявление класса (кодирование)\n",
        "3.   демонстрация использования класса (создание объекта и вызов методов)\n",
        "\n",
        "Проектирование класса можно производить с использованием любого средства проектирования (UML-редактор, онлайн средства построения диаграмм ([https://www.draw.io](https://www.draw.io)), обычный графический редактор). На рисунке показана диаграмма классов для спроектированного класса Par.\n"
      ],
      "metadata": {
        "id": "AGeDnC-JGLBz"
      }
    },
    {
      "cell_type": "markdown",
      "source": [
        "На данном этапе проектирование завершается. Переходим к объявлению класса `Par`."
      ],
      "metadata": {
        "id": "pwmyfJoJb5sg"
      }
    },
    {
      "cell_type": "markdown",
      "source": [],
      "metadata": {
        "id": "37KIg_jmDqWt"
      }
    },
    {
      "cell_type": "code",
      "source": [
        "import math\n",
        "class Cyl:\n",
        "  # Объявляем конструктор класса\n",
        "  def __init__(self, ph, pr):\n",
        "    self.h=ph\n",
        "    self.r=pr\n",
        "\n",
        "  # Объявляем метод для вычисления площади поверхности фигуры\n",
        "  def GetS(self):\n",
        "    return 2*math.pi*self.r*(self.r+self.h)\n",
        "\n",
        "  # Объявляем метод для вычисления объема\n",
        "  def GetV(self):\n",
        "    return math.pi*(self.r**2)*self.h\n",
        "\n",
        "  # Объявление метода для вывода информации о фигуре\n",
        "  def Info(self):\n",
        "    print('*'*20)\n",
        "    print('Прямоугольный параллелепипед: \\n')\n",
        "    print('Высота: %.2f Радиус: %.2f' % (self.h, self.r))\n",
        "    print('Площадь: %.3f' % self.GetS())\n",
        "    print('Объем: %.3f' % self.GetV())\n",
        "    print('*'*20)\n",
        "\n",
        "  def Load(path_to_file):\n",
        "    d = open(path_to_file).read().strip().split()\n",
        "    tmp = Par(float(d[0]), float(d[0]))\n",
        "    return tmp"
      ],
      "metadata": {
        "id": "THyFl2qOJTzi"
      },
      "execution_count": null,
      "outputs": []
    },
    {
      "cell_type": "code",
      "source": [
        "# Создание объекта p1 типа Par (используется конструктор)\n",
        "p1 = Cyl(10, 5)\n",
        "# Вызов метода класса\n",
        "p1.Info()"
      ],
      "metadata": {
        "colab": {
          "base_uri": "https://localhost:8080/"
        },
        "id": "F6XZwISDLl-M",
        "outputId": "d7b0a418-030b-40a4-d982-59d57d92f296"
      },
      "execution_count": null,
      "outputs": [
        {
          "output_type": "stream",
          "name": "stdout",
          "text": [
            "********************\n",
            "Прямоугольный параллелепипед: \n",
            "\n",
            "Высота: 10.00 Радиус: 5.00\n",
            "Площадь: 471.239\n",
            "Объем: 785.398\n",
            "********************\n"
          ]
        }
      ]
    },
    {
      "cell_type": "markdown",
      "source": [
        "Изучим загрузку данных в поля класса с использованием метода `Load()`"
      ],
      "metadata": {
        "id": "dusmGf0PoHeU"
      }
    },
    {
      "cell_type": "code",
      "source": [
        "!wget https://raw.githubusercontent.com/enikolaev/IT-and-Programming/main/data/pract5/data_par.txt"
      ],
      "metadata": {
        "colab": {
          "base_uri": "https://localhost:8080/"
        },
        "id": "3y5mYTT_N7m9",
        "outputId": "df79aa23-96ec-4809-cbe4-5bf8da11a077"
      },
      "execution_count": null,
      "outputs": [
        {
          "output_type": "stream",
          "name": "stdout",
          "text": [
            "--2023-03-06 14:01:02--  https://raw.githubusercontent.com/enikolaev/IT-and-Programming/main/data/pract5/data_par.txt\n",
            "Resolving raw.githubusercontent.com (raw.githubusercontent.com)... 185.199.108.133, 185.199.109.133, 185.199.110.133, ...\n",
            "Connecting to raw.githubusercontent.com (raw.githubusercontent.com)|185.199.108.133|:443... connected.\n",
            "HTTP request sent, awaiting response... 200 OK\n",
            "Length: 16 [text/plain]\n",
            "Saving to: ‘data_par.txt’\n",
            "\n",
            "data_par.txt        100%[===================>]      16  --.-KB/s    in 0s      \n",
            "\n",
            "2023-03-06 14:01:03 (771 KB/s) - ‘data_par.txt’ saved [16/16]\n",
            "\n"
          ]
        }
      ]
    },
    {
      "cell_type": "markdown",
      "source": [
        "Выполним загрузку данных"
      ],
      "metadata": {
        "id": "KLhjLm6SObb1"
      }
    },
    {
      "cell_type": "code",
      "source": [
        "fpath='data_par.txt'\n",
        "print('Содержимое фаайла:')\n",
        "print(open(fpath).read())\n",
        "\n",
        "p2 = Par.Load(fpath)\n",
        "p2.Info()"
      ],
      "metadata": {
        "colab": {
          "base_uri": "https://localhost:8080/"
        },
        "id": "cEvievJ-OjZ5",
        "outputId": "59ac26f8-e2db-4152-dc3a-ce3338e123aa"
      },
      "execution_count": null,
      "outputs": [
        {
          "output_type": "stream",
          "name": "stdout",
          "text": [
            "Содержимое фаайла:\n",
            "23.5 60.45 50.1\n",
            "\n",
            "********************\n",
            "Прямоугольный параллелепипед: \n",
            "\n",
            "Размеры: 23.50 x 23.50 x 23.50\n",
            "Площадь: 3313.500\n",
            "Объем: 12977.875\n",
            "********************\n"
          ]
        }
      ]
    }
  ]
}