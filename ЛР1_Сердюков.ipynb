{
  "nbformat": 4,
  "nbformat_minor": 0,
  "metadata": {
    "colab": {
      "provenance": [],
      "include_colab_link": true
    },
    "kernelspec": {
      "name": "python3",
      "display_name": "Python 3"
    },
    "language_info": {
      "name": "python"
    }
  },
  "cells": [
    {
      "cell_type": "markdown",
      "metadata": {
        "id": "view-in-github",
        "colab_type": "text"
      },
      "source": [
        "<a href=\"https://colab.research.google.com/github/nserdyukov/AIPD/blob/main/%D0%9B%D0%A01_%D0%A1%D0%B5%D1%80%D0%B4%D1%8E%D0%BA%D0%BE%D0%B2.ipynb\" target=\"_parent\"><img src=\"https://colab.research.google.com/assets/colab-badge.svg\" alt=\"Open In Colab\"/></a>"
      ]
    },
    {
      "cell_type": "code",
      "source": [
        "ФИО=\"Сердюков Никита Анатольевич\"\n",
        "Группа=\"ПИН-б-о-22-1, Прикладная информатика\"\n",
        "ЯП=\"Python\"\n",
        "Хобби=\"Компьютерные игры\"\n",
        "print(\"ФИО: \", ФИО)\n",
        "print(\"Группа: \", Группа)\n",
        "print(\"ЯП: \", ЯП)\n",
        "print(\"Хобби: \", Хобби)"
      ],
      "metadata": {
        "colab": {
          "base_uri": "https://localhost:8080/"
        },
        "id": "Pico590sRs54",
        "outputId": "9ab51f9f-038d-4b70-adca-3c24cb0ffe9f"
      },
      "execution_count": null,
      "outputs": [
        {
          "output_type": "stream",
          "name": "stdout",
          "text": [
            "ФИО:  Сердюков Никита Анатольевич\n",
            "Группа:  ПИН-б-о-22-1, Прикладная информатика\n",
            "ЯП:  Python\n",
            "Хобби:  Компьютерные игры\n"
          ]
        }
      ]
    },
    {
      "cell_type": "code",
      "execution_count": null,
      "metadata": {
        "id": "GRcewQyGh7dD",
        "colab": {
          "base_uri": "https://localhost:8080/"
        },
        "outputId": "a52e9064-0a79-4a62-988b-fb90e473eea2"
      },
      "outputs": [
        {
          "output_type": "stream",
          "name": "stdout",
          "text": [
            "x =  12 , type(x) =  <class 'int'>\n",
            "X =  33 , type(X) =  <class 'int'>\n",
            "z =  50 , type(z) =  <class 'int'>\n",
            "Z =  10 , type(Z) =  <class 'int'>\n"
          ]
        }
      ],
      "source": [
        "Z=10\n",
        "z=50\n",
        "x=12\n",
        "X=33\n",
        "print(\"x = \", x, \", type(x) = \", type(x))\n",
        "print(\"X = \", X, \", type(X) = \", type(X))\n",
        "print(\"z = \", z, \", type(z) = \", type(z))\n",
        "print(\"Z = \", Z, \", type(Z) = \", type(Z))"
      ]
    },
    {
      "cell_type": "markdown",
      "source": [
        "## Вычисление выражение, печать результатов"
      ],
      "metadata": {
        "id": "JCG1FflCrJRE"
      }
    },
    {
      "cell_type": "markdown",
      "source": [
        "Код для вычисления значения выражения $Y$:"
      ],
      "metadata": {
        "id": "9ky-Ji8ppVb9"
      }
    },
    {
      "cell_type": "code",
      "source": [
        "Y=Z*(z+x)+z/Z-(z+Z)/(x+X)\n",
        "print('Y=',Y)\n",
        "print('Type of Y: ', type(Y))"
      ],
      "metadata": {
        "colab": {
          "base_uri": "https://localhost:8080/"
        },
        "id": "v5SpmCokphuJ",
        "outputId": "71a9998c-1f09-4996-8657-9c9d2a8aa288"
      },
      "execution_count": null,
      "outputs": [
        {
          "output_type": "stream",
          "name": "stdout",
          "text": [
            "Y= 623.6666666666666\n",
            "Type of Y:  <class 'float'>\n"
          ]
        }
      ]
    },
    {
      "cell_type": "markdown",
      "source": [
        "Основные функции, используемые в данной практической работе: `print(), type(), abs()`"
      ],
      "metadata": {
        "id": "QgydWXtBqRUl"
      }
    }
  ]
}