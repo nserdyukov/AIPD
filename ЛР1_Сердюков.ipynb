{
  "nbformat": 4,
  "nbformat_minor": 0,
  "metadata": {
    "colab": {
      "provenance": [],
      "include_colab_link": true
    },
    "kernelspec": {
      "name": "python3",
      "display_name": "Python 3"
    },
    "language_info": {
      "name": "python"
    }
  },
  "cells": [
    {
      "cell_type": "markdown",
      "metadata": {
        "id": "view-in-github",
        "colab_type": "text"
      },
      "source": [
        "<a href=\"https://colab.research.google.com/github/nserdyukov/AIPD/blob/main/%D0%9B%D0%A01_%D0%A1%D0%B5%D1%80%D0%B4%D1%8E%D0%BA%D0%BE%D0%B2.ipynb\" target=\"_parent\"><img src=\"https://colab.research.google.com/assets/colab-badge.svg\" alt=\"Open In Colab\"/></a>"
      ]
    },
    {
      "cell_type": "markdown",
      "source": [
        "![image.png](data:image/png;base64,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)"
      ],
      "metadata": {
        "id": "_-ENZfiZlyUq"
      }
    },
    {
      "cell_type": "code",
      "source": [
        "ФИО=\"Сердюков Никита Анатольевич\"\n",
        "Группа=\"ПИН-б-о-22-1, Прикладная информатика\"\n",
        "ЯП=\"Python\"\n",
        "Хобби=\"Компьютерные игры\"\n",
        "print(\"ФИО: \", ФИО)\n",
        "print(\"Группа: \", Группа)\n",
        "print(\"ЯП: \", ЯП)\n",
        "print(\"Хобби: \", Хобби)"
      ],
      "metadata": {
        "colab": {
          "base_uri": "https://localhost:8080/"
        },
        "id": "Pico590sRs54",
        "outputId": "9ab51f9f-038d-4b70-adca-3c24cb0ffe9f"
      },
      "execution_count": null,
      "outputs": [
        {
          "output_type": "stream",
          "name": "stdout",
          "text": [
            "ФИО:  Сердюков Никита Анатольевич\n",
            "Группа:  ПИН-б-о-22-1, Прикладная информатика\n",
            "ЯП:  Python\n",
            "Хобби:  Компьютерные игры\n"
          ]
        }
      ]
    },
    {
      "cell_type": "code",
      "execution_count": null,
      "metadata": {
        "id": "GRcewQyGh7dD",
        "colab": {
          "base_uri": "https://localhost:8080/"
        },
        "outputId": "a52e9064-0a79-4a62-988b-fb90e473eea2"
      },
      "outputs": [
        {
          "output_type": "stream",
          "name": "stdout",
          "text": [
            "x =  12 , type(x) =  <class 'int'>\n",
            "X =  33 , type(X) =  <class 'int'>\n",
            "z =  50 , type(z) =  <class 'int'>\n",
            "Z =  10 , type(Z) =  <class 'int'>\n"
          ]
        }
      ],
      "source": [
        "Z=10\n",
        "z=50\n",
        "x=12\n",
        "X=33\n",
        "print(\"x = \", x, \", type(x) = \", type(x))\n",
        "print(\"X = \", X, \", type(X) = \", type(X))\n",
        "print(\"z = \", z, \", type(z) = \", type(z))\n",
        "print(\"Z = \", Z, \", type(Z) = \", type(Z))"
      ]
    },
    {
      "cell_type": "markdown",
      "source": [
        "## Вычисление выражение, печать результатов"
      ],
      "metadata": {
        "id": "JCG1FflCrJRE"
      }
    },
    {
      "cell_type": "markdown",
      "source": [
        "Код для вычисления значения выражения $Y$:"
      ],
      "metadata": {
        "id": "9ky-Ji8ppVb9"
      }
    },
    {
      "cell_type": "code",
      "source": [
        "Y=Z*(z+x)+z/Z-(z+Z)/(x+X)\n",
        "print('Y=',Y)\n",
        "print('Type of Y: ', type(Y))"
      ],
      "metadata": {
        "colab": {
          "base_uri": "https://localhost:8080/"
        },
        "id": "v5SpmCokphuJ",
        "outputId": "71a9998c-1f09-4996-8657-9c9d2a8aa288"
      },
      "execution_count": null,
      "outputs": [
        {
          "output_type": "stream",
          "name": "stdout",
          "text": [
            "Y= 623.6666666666666\n",
            "Type of Y:  <class 'float'>\n"
          ]
        }
      ]
    },
    {
      "cell_type": "markdown",
      "source": [
        "Основные функции, используемые в данной практической работе: `print(), type(), abs()`"
      ],
      "metadata": {
        "id": "QgydWXtBqRUl"
      }
    }
  ]
}