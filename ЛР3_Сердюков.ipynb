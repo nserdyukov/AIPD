{
  "nbformat": 4,
  "nbformat_minor": 0,
  "metadata": {
    "colab": {
      "provenance": [],
      "collapsed_sections": [
        "RGlwZaXQrAfd"
      ],
      "include_colab_link": true
    },
    "kernelspec": {
      "name": "python3",
      "display_name": "Python 3"
    },
    "language_info": {
      "name": "python"
    }
  },
  "cells": [
    {
      "cell_type": "markdown",
      "metadata": {
        "id": "view-in-github",
        "colab_type": "text"
      },
      "source": [
        "<a href=\"https://colab.research.google.com/github/nserdyukov/AIPD/blob/main/%D0%9B%D0%A03_%D0%A1%D0%B5%D1%80%D0%B4%D1%8E%D0%BA%D0%BE%D0%B2.ipynb\" target=\"_parent\"><img src=\"https://colab.research.google.com/assets/colab-badge.svg\" alt=\"Open In Colab\"/></a>"
      ]
    },
    {
      "cell_type": "markdown",
      "source": [
        "# Практическая работа 3. Обработка данных из файла"
      ],
      "metadata": {
        "id": "C3DZeo7xi2HL"
      }
    },
    {
      "cell_type": "markdown",
      "source": [
        "![image.png](data:image/png;base64,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)"
      ],
      "metadata": {
        "id": "Zdf-8BAUn81B"
      }
    },
    {
      "cell_type": "code",
      "execution_count": null,
      "metadata": {
        "id": "GRcewQyGh7dD"
      },
      "outputs": [],
      "source": [
        "!wget https://raw.githubusercontent.com/enikolaev/IT-and-Programming/main/data/data_v1.txt\n"
      ]
    },
    {
      "cell_type": "markdown",
      "source": [
        "Можно скопировать и поместить файл с данными любым удобным способом"
      ],
      "metadata": {
        "id": "hupq--jq0PA3"
      }
    },
    {
      "cell_type": "markdown",
      "source": [
        "Реализуем чтение всего файла в строку с использованием метоа `open()` и `read()`:"
      ],
      "metadata": {
        "id": "YlvR9gr-9qJY"
      }
    },
    {
      "cell_type": "code",
      "source": [
        "f=open('data_v1.txt')\n",
        "s=f.read().strip()\n",
        "print(len(s))"
      ],
      "metadata": {
        "id": "GzShFx3l0l49"
      },
      "execution_count": null,
      "outputs": []
    },
    {
      "cell_type": "markdown",
      "source": [
        "## Решение задачи"
      ],
      "metadata": {
        "id": "9ky-Ji8ppVb9"
      }
    },
    {
      "cell_type": "code",
      "source": [
        "target=''\n",
        "maxx=0\n",
        "maxs=''\n",
        "for c in s:\n",
        "  if c.isdigit() and int(c)%2!=0:\n",
        "    target+=str(c)\n",
        "  else:\n",
        "    if len(target)>maxx:\n",
        "      maxx=len(target)\n",
        "      maxs=target\n",
        "      target=''\n",
        "\n",
        "print('Максимальная длина подпоследовательности нечетных чисел = %d' % maxx)\n",
        "print('Подпоследовательность:', maxs)"
      ],
      "metadata": {
        "colab": {
          "base_uri": "https://localhost:8080/"
        },
        "id": "v5SpmCokphuJ",
        "outputId": "37f70580-0100-4aeb-c435-6f6bddcc95e8"
      },
      "execution_count": null,
      "outputs": [
        {
          "output_type": "stream",
          "name": "stdout",
          "text": [
            "Максимальная длина подпоследовательности нечетных чисел = 132\n",
            "Подпоследовательность: 513959735933593171159991951771573995933751177979555371157993519351175535151717757995135117339511573317913577397177799173399111151997\n"
          ]
        }
      ]
    }
  ]
}