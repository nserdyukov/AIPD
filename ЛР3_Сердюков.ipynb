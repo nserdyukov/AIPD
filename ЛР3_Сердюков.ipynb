{
  "nbformat": 4,
  "nbformat_minor": 0,
  "metadata": {
    "colab": {
      "provenance": [],
      "collapsed_sections": [
        "RGlwZaXQrAfd"
      ],
      "include_colab_link": true
    },
    "kernelspec": {
      "name": "python3",
      "display_name": "Python 3"
    },
    "language_info": {
      "name": "python"
    }
  },
  "cells": [
    {
      "cell_type": "markdown",
      "metadata": {
        "id": "view-in-github",
        "colab_type": "text"
      },
      "source": [
        "<a href=\"https://colab.research.google.com/github/nserdyukov/AIPD/blob/main/%D0%9B%D0%A03_%D0%A1%D0%B5%D1%80%D0%B4%D1%8E%D0%BA%D0%BE%D0%B2.ipynb\" target=\"_parent\"><img src=\"https://colab.research.google.com/assets/colab-badge.svg\" alt=\"Open In Colab\"/></a>"
      ]
    },
    {
      "cell_type": "markdown",
      "source": [
        "# Практическая работа 3. Обработка данных из файла"
      ],
      "metadata": {
        "id": "C3DZeo7xi2HL"
      }
    },
    {
      "cell_type": "markdown",
      "source": [
        "## Анализ задания, получение данных"
      ],
      "metadata": {
        "id": "RGlwZaXQrAfd"
      }
    },
    {
      "cell_type": "markdown",
      "source": [
        "Файл data_v1.txt расположен репозитории. Выполним копирование файла в локальное хранилище Google Colab, используя следующую команду:"
      ],
      "metadata": {
        "id": "dusmGf0PoHeU"
      }
    },
    {
      "cell_type": "code",
      "execution_count": null,
      "metadata": {
        "id": "GRcewQyGh7dD"
      },
      "outputs": [],
      "source": [
        "!wget https://raw.githubusercontent.com/enikolaev/IT-and-Programming/main/data/data_v1.txt\n"
      ]
    },
    {
      "cell_type": "markdown",
      "source": [
        "Можно скопировать и поместить файл с данными любым удобным способом"
      ],
      "metadata": {
        "id": "hupq--jq0PA3"
      }
    },
    {
      "cell_type": "markdown",
      "source": [
        "Реализуем чтение всего файла в строку с использованием метоа `open()` и `read()`:"
      ],
      "metadata": {
        "id": "YlvR9gr-9qJY"
      }
    },
    {
      "cell_type": "code",
      "source": [
        "f=open('data_v1.txt')\n",
        "s=f.read().strip()\n",
        "print(len(s))"
      ],
      "metadata": {
        "id": "GzShFx3l0l49"
      },
      "execution_count": null,
      "outputs": []
    },
    {
      "cell_type": "markdown",
      "source": [
        "## Решение задачи"
      ],
      "metadata": {
        "id": "9ky-Ji8ppVb9"
      }
    },
    {
      "cell_type": "code",
      "source": [
        "target=''\n",
        "maxx=0\n",
        "maxs=''\n",
        "for c in s:\n",
        "  if c.isdigit() and int(c)%2!=0:\n",
        "    target+=str(c)\n",
        "  else:\n",
        "    if len(target)>maxx:\n",
        "      maxx=len(target)\n",
        "      maxs=target\n",
        "      target=''\n",
        "\n",
        "print('Максимальная длина подпоследовательности нечетных чисел = %d' % maxx)\n",
        "print('Подпоследовательность:', maxs)"
      ],
      "metadata": {
        "colab": {
          "base_uri": "https://localhost:8080/"
        },
        "id": "v5SpmCokphuJ",
        "outputId": "37f70580-0100-4aeb-c435-6f6bddcc95e8"
      },
      "execution_count": null,
      "outputs": [
        {
          "output_type": "stream",
          "name": "stdout",
          "text": [
            "Максимальная длина подпоследовательности нечетных чисел = 132\n",
            "Подпоследовательность: 513959735933593171159991951771573995933751177979555371157993519351175535151717757995135117339511573317913577397177799173399111151997\n"
          ]
        }
      ]
    }
  ]
}