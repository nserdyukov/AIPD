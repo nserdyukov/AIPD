{
  "nbformat": 4,
  "nbformat_minor": 0,
  "metadata": {
    "colab": {
      "provenance": [],
      "include_colab_link": true
    },
    "kernelspec": {
      "name": "python3",
      "display_name": "Python 3"
    },
    "language_info": {
      "name": "python"
    }
  },
  "cells": [
    {
      "cell_type": "markdown",
      "metadata": {
        "id": "view-in-github",
        "colab_type": "text"
      },
      "source": [
        "<a href=\"https://colab.research.google.com/github/nserdyukov/AIPD/blob/main/%D0%9B%D0%A02_%D0%A1%D0%B5%D1%80%D0%B4%D1%8E%D0%BA%D0%BE%D0%B2.ipynb\" target=\"_parent\"><img src=\"https://colab.research.google.com/assets/colab-badge.svg\" alt=\"Open In Colab\"/></a>"
      ]
    },
    {
      "cell_type": "markdown",
      "source": [
        "# Практическая работа 2. Основные конструкции языка"
      ],
      "metadata": {
        "id": "C3DZeo7xi2HL"
      }
    },
    {
      "cell_type": "markdown",
      "source": [
        "## Задание"
      ],
      "metadata": {
        "id": "8wIyzax9q7JF"
      }
    },
    {
      "cell_type": "markdown",
      "source": [
        "Напишите скрипт поиска чисел, кратных 2, но не кратных 4 в\n",
        "списке, состоящем из элементов произвольного типа. Необходимо\n",
        "вывести количество и максимальный из найденных элементов"
      ],
      "metadata": {
        "id": "A1UMdzQGjFix"
      }
    },
    {
      "cell_type": "markdown",
      "source": [
        "## Решение задачи"
      ],
      "metadata": {
        "id": "JCG1FflCrJRE"
      }
    },
    {
      "cell_type": "markdown",
      "source": [
        "Определим список и заполним его значениями произвольного типа:"
      ],
      "metadata": {
        "id": "HD07G40-3FNH"
      }
    },
    {
      "cell_type": "markdown",
      "source": [
        "Будем перебирать элементы списка и для каждого узнаем, делится ли он на 23 или нет. В процессе обхода будем выводить информацию о ходе решения и подсчитывать количество требуемых элементов"
      ],
      "metadata": {
        "id": "9ky-Ji8ppVb9"
      }
    },
    {
      "cell_type": "code",
      "source": [
        "p=[\"My\", 33, 32, 46, 5.66, 23, 52, 20, 18, [4, 6.8, \"ask\"], (45,67)]\n",
        "# переменная для хранения количества найденных элементов\n",
        "K=0\n",
        "maxi=0\n",
        "# цикл для последовательного обхода элементов списка\n",
        "for i in range(0, len(p)):\n",
        "  e=p[i]\n",
        "  if type(e)==int:\n",
        "    print('%d-й элемент:' % i, 'тип: %s' % type(e), 'значение: %d' % e)\n",
        "    if e%2==0 and e%4!=0:\n",
        "      print('>>> делится на 2,но не делиться на 4')\n",
        "      K+=1\n",
        "      if e>>maxi:\n",
        "        maxi=e\n",
        "  else:\n",
        "    print('%d-й элемент:' % i, 'тип: %s' % type(e))\n",
        "\n",
        "print('Найдено элементов, кратных 2 и не кратных 4: %d' % K)\n",
        "print('Максимальный из них: %d' % maxi)"
      ],
      "metadata": {
        "colab": {
          "base_uri": "https://localhost:8080/"
        },
        "id": "v5SpmCokphuJ",
        "outputId": "605b6bac-a6e4-4455-c290-dfa36434561e"
      },
      "execution_count": null,
      "outputs": [
        {
          "output_type": "stream",
          "name": "stdout",
          "text": [
            "0-й элемент: тип: <class 'str'>\n",
            "1-й элемент: тип: <class 'int'> значение: 33\n",
            "2-й элемент: тип: <class 'int'> значение: 32\n",
            "3-й элемент: тип: <class 'int'> значение: 46\n",
            ">>> делится на 2,но не делиться на 4\n",
            "4-й элемент: тип: <class 'float'>\n",
            "5-й элемент: тип: <class 'int'> значение: 23\n",
            "6-й элемент: тип: <class 'int'> значение: 52\n",
            "7-й элемент: тип: <class 'int'> значение: 20\n",
            "8-й элемент: тип: <class 'int'> значение: 18\n",
            ">>> делится на 2,но не делиться на 4\n",
            "9-й элемент: тип: <class 'list'>\n",
            "10-й элемент: тип: <class 'tuple'>\n",
            "Найдено элементов, кратных 2 и не кратных 4: 2\n",
            "Максимальный из них: 46\n"
          ]
        }
      ]
    },
    {
      "cell_type": "markdown",
      "source": [
        "В данной работе были использованы операторы `if` (условный оператор), `for ... in range(...)` (оператор цикла с обходом диапазона). Применялись функции `print()`, `type()`"
      ],
      "metadata": {
        "id": "kfm23877A4o2"
      }
    }
  ]
}