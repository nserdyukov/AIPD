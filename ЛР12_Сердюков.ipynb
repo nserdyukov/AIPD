{
  "cells": [
    {
      "cell_type": "markdown",
      "metadata": {
        "id": "view-in-github",
        "colab_type": "text"
      },
      "source": [
        "<a href=\"https://colab.research.google.com/github/nserdyukov/AIPD/blob/main/%D0%9B%D0%A012_%D0%A1%D0%B5%D1%80%D0%B4%D1%8E%D0%BA%D0%BE%D0%B2.ipynb\" target=\"_parent\"><img src=\"https://colab.research.google.com/assets/colab-badge.svg\" alt=\"Open In Colab\"/></a>"
      ]
    },
    {
      "cell_type": "markdown",
      "metadata": {
        "id": "EZrLi8yC7GOu"
      },
      "source": [
        "# Лабораторная работа 12. Логические методы классификации"
      ]
    },
    {
      "cell_type": "code",
      "source": [
        "!wget https://raw.githubusercontent.com/nserdyukov/rice_dataset/refs/heads/main/rice"
      ],
      "metadata": {
        "colab": {
          "base_uri": "https://localhost:8080/"
        },
        "id": "5pxH8kkP7I2U",
        "outputId": "a621526e-56e7-4d5f-b384-82792126ac55"
      },
      "execution_count": 1,
      "outputs": [
        {
          "output_type": "stream",
          "name": "stdout",
          "text": [
            "--2024-12-19 23:54:12--  https://raw.githubusercontent.com/nserdyukov/rice_dataset/refs/heads/main/rice\n",
            "Resolving raw.githubusercontent.com (raw.githubusercontent.com)... 185.199.111.133, 185.199.108.133, 185.199.109.133, ...\n",
            "Connecting to raw.githubusercontent.com (raw.githubusercontent.com)|185.199.111.133|:443... connected.\n",
            "HTTP request sent, awaiting response... 200 OK\n",
            "Length: 22441 (22K) [text/plain]\n",
            "Saving to: ‘rice’\n",
            "\n",
            "\rrice                  0%[                    ]       0  --.-KB/s               \rrice                100%[===================>]  21.92K  --.-KB/s    in 0.001s  \n",
            "\n",
            "2024-12-19 23:54:12 (21.4 MB/s) - ‘rice’ saved [22441/22441]\n",
            "\n"
          ]
        }
      ]
    },
    {
      "cell_type": "code",
      "execution_count": 2,
      "metadata": {
        "ExecuteTime": {
          "end_time": "2022-08-22T16:07:23.874030Z",
          "start_time": "2022-08-22T16:07:22.965821Z"
        },
        "colab": {
          "base_uri": "https://localhost:8080/"
        },
        "id": "TP9U1eWN7GO0",
        "outputId": "d67287b3-c999-4b65-93c3-958e930f2253"
      },
      "outputs": [
        {
          "output_type": "stream",
          "name": "stdout",
          "text": [
            "      id   Area  MajorAxisLength  MinorAxisLength  Eccentricity  ConvexArea  \\\n",
            "0  10407   4868       145.568204        43.019209      0.955335        4960   \n",
            "1  10408   6170       164.043222        48.476178      0.955340        6380   \n",
            "2  10409   6154       164.359482        48.568690      0.955342        6305   \n",
            "3  10410  10076       164.254703        79.371008      0.875499       10445   \n",
            "4  10411   6275       166.306520        49.134183      0.955360        6529   \n",
            "\n",
            "   EquivDiameter    Extent  Perimeter  Roundness  \n",
            "0      78.728204  0.422790    316.465   0.610814  \n",
            "1      88.633447  0.491399    354.387   0.617361  \n",
            "2      88.518451  0.420585    360.455   0.595203  \n",
            "3     113.265889  0.610667    414.635   0.736489  \n",
            "4      89.384440  0.617132    370.048   0.575847  \n",
            "0    1\n",
            "1    1\n",
            "2    1\n",
            "3    0\n",
            "4    1\n",
            "Name: Class, dtype: int64\n"
          ]
        }
      ],
      "source": [
        "import numpy as np\n",
        "import pandas as pd\n",
        "\n",
        "%matplotlib inline\n",
        "\n",
        "import seaborn as sns\n",
        "from matplotlib import pyplot as plt\n",
        "\n",
        "data_source = 'rice'\n",
        "d = pd.read_table(data_source, delimiter=',',\n",
        "                  header=None,\n",
        "                  names=['id','Area','MajorAxisLength','MinorAxisLength','Eccentricity','ConvexArea','EquivDiameter','Extent','Perimeter','Roundness','AspectRation','Class'])\n",
        "\n",
        "dX = d.iloc[ : , 0:10 ]\n",
        "dy = d['Class']\n",
        "\n",
        "print(dX.head())\n",
        "print(dy.head())"
      ]
    },
    {
      "cell_type": "code",
      "execution_count": 3,
      "metadata": {
        "ExecuteTime": {
          "end_time": "2022-08-22T16:07:26.868999Z",
          "start_time": "2022-08-22T16:07:26.010748Z"
        },
        "colab": {
          "base_uri": "https://localhost:8080/"
        },
        "id": "YDsJ2tba7GO2",
        "outputId": "0f540746-df23-4994-f8ff-03f1b0d6b66a"
      },
      "outputs": [
        {
          "output_type": "stream",
          "name": "stdout",
          "text": [
            "1.0\n"
          ]
        }
      ],
      "source": [
        "from sklearn.tree import DecisionTreeClassifier\n",
        "from sklearn.model_selection import train_test_split\n",
        "from sklearn.metrics import accuracy_score\n",
        "\n",
        "# Подмножества для hold-out\n",
        "X_train, X_holdout, y_train, y_holdout = \\\n",
        "train_test_split(dX, dy, test_size=0.3, random_state=12)\n",
        "\n",
        "# Обучение модели\n",
        "tree = DecisionTreeClassifier(max_depth=5,\n",
        "                              random_state=21,\n",
        "                              max_features=2)\n",
        "tree.fit(X_train, y_train)\n",
        "\n",
        "# Получение оценки hold-out\n",
        "tree_pred = tree.predict(X_holdout)\n",
        "accur = accuracy_score(y_holdout, tree_pred)\n",
        "print(accur)"
      ]
    },
    {
      "cell_type": "code",
      "execution_count": 4,
      "metadata": {
        "ExecuteTime": {
          "end_time": "2022-08-22T16:07:32.086463Z",
          "start_time": "2022-08-22T16:07:31.483770Z"
        },
        "colab": {
          "base_uri": "https://localhost:8080/",
          "height": 467
        },
        "id": "ZcNdpHnL7GO3",
        "outputId": "9e3e1d51-f0af-4c03-f91a-68ede36178f0"
      },
      "outputs": [
        {
          "output_type": "display_data",
          "data": {
            "text/plain": [
              "<Figure size 640x480 with 1 Axes>"
            ],
            "image/png": "[encoded data removed]"
          },
          "metadata": {}
        },
        {
          "output_type": "stream",
          "name": "stdout",
          "text": [
            "Оптимальные значения max_depth:  [3, 4, 5, 6, 7, 8, 9, 10, 11, 12, 13, 14, 15, 16, 17, 18, 19]\n"
          ]
        }
      ],
      "source": [
        "from sklearn.model_selection import cross_val_score\n",
        "\n",
        "# Значения параметра max_depth\n",
        "d_list = list(range(1,20))\n",
        "# Пустой список для хранения значений точности\n",
        "cv_scores = []\n",
        "# В цикле проходим все значения K\n",
        "for d in d_list:\n",
        "    tree = DecisionTreeClassifier(max_depth=d,\n",
        "                                  random_state=21,\n",
        "                                  max_features=2)\n",
        "    scores = cross_val_score(tree, dX, dy, cv=10, scoring='accuracy')\n",
        "    cv_scores.append(scores.mean())\n",
        "\n",
        "# Вычисляем ошибку (misclassification error)\n",
        "MSE = [1-x for x in cv_scores]\n",
        "\n",
        "# Строим график\n",
        "plt.plot(d_list, MSE)\n",
        "plt.xlabel('Макс. глубина дерева (max_depth)');\n",
        "plt.ylabel('Ошибка классификации (MSE)')\n",
        "plt.show()\n",
        "\n",
        "# Ищем минимум\n",
        "d_min = min(MSE)\n",
        "\n",
        "# Пробуем найти прочие минимумы (если их несколько)\n",
        "all_d_min = []\n",
        "for i in range(len(MSE)):\n",
        "    if MSE[i] <= d_min:\n",
        "        all_d_min.append(d_list[i])\n",
        "\n",
        "# печатаем все K, оптимальные для модели\n",
        "print('Оптимальные значения max_depth: ', all_d_min)"
      ]
    },
    {
      "cell_type": "code",
      "execution_count": 5,
      "metadata": {
        "ExecuteTime": {
          "end_time": "2022-08-22T16:07:39.558931Z",
          "start_time": "2022-08-22T16:07:36.803227Z"
        },
        "colab": {
          "base_uri": "https://localhost:8080/"
        },
        "id": "mVkY97ZL7GO4",
        "outputId": "470f2134-5c11-4e53-f3ba-b155bff5d015"
      },
      "outputs": [
        {
          "output_type": "stream",
          "name": "stdout",
          "text": [
            "Fitting 10 folds for each of 171 candidates, totalling 1710 fits\n",
            "\n",
            "\n",
            "Лучшее сочетание параметров:  {'max_depth': 1, 'max_features': 3}\n",
            "Лучшие баллы cross validation:  1.0\n"
          ]
        }
      ],
      "source": [
        "from sklearn.model_selection import GridSearchCV, cross_val_score\n",
        "from sklearn import tree\n",
        "\n",
        "dtc = DecisionTreeClassifier(max_depth=10, random_state=21, max_features=2)\n",
        "\n",
        "tree_params = { 'max_depth': range(1,20), 'max_features': range(1,10) }\n",
        "tree_grid = GridSearchCV(dtc, tree_params, cv=10, verbose=True, n_jobs=-1)\n",
        "tree_grid.fit(dX, dy)\n",
        "\n",
        "print('\\n')\n",
        "print('Лучшее сочетание параметров: ', tree_grid.best_params_)\n",
        "print('Лучшие баллы cross validation: ', tree_grid.best_score_)\n",
        "\n",
        "# Генерируем графическое представление лучшего дерева (сохранится в файле)\n",
        "tree.export_graphviz(tree_grid.best_estimator_,\n",
        "                     feature_names=dX.columns,\n",
        "                     class_names=(\"Gonen\",\"Jasmine\"),\n",
        "                     out_file='iris_tree.dot',\n",
        "                     filled=True, rounded=True)"
      ]
    },
    {
      "cell_type": "code",
      "source": [
        "# На самом деле можно визуализировать в Google Colab следующим бразом\n",
        "import graphviz\n",
        "dot_data = tree.export_graphviz(tree_grid.best_estimator_,\n",
        "                     feature_names=dX.columns,\n",
        "                     class_names=(\"Gonen\",\"Jasmine\"),\n",
        "                     out_file=None,\n",
        "                     filled=True, rounded=True)\n",
        "graph = graphviz.Source(dot_data)\n",
        "print('Оптимальное дерево решений')\n",
        "graph"
      ],
      "metadata": {
        "colab": {
          "base_uri": "https://localhost:8080/",
          "height": 299
        },
        "id": "wqAyZ2zp8Po5",
        "outputId": "c5709769-5d5b-4d86-ac51-8b942a6fae32"
      },
      "execution_count": 6,
      "outputs": [
        {
          "output_type": "stream",
          "name": "stdout",
          "text": [
            "Оптимальное дерево решений\n"
          ]
        },
        {
          "output_type": "execute_result",
          "data": {
            "image/svg+xml": "<?xml version=\"1.0\" encoding=\"UTF-8\" standalone=\"no\"?>\n<!DOCTYPE svg PUBLIC \"-//W3C//DTD SVG 1.1//EN\"\n \"http://www.w3.org/Graphics/SVG/1.1/DTD/svg11.dtd\">\n<!-- Generated by graphviz version 2.43.0 (0)\n -->\n<!-- Title: Tree Pages: 1 -->\n<svg width=\"244pt\" height=\"195pt\"\n viewBox=\"0.00 0.00 244.00 195.00\" xmlns=\"http://www.w3.org/2000/svg\" xmlns:xlink=\"http://www.w3.org/1999/xlink\">\n<g id=\"graph0\" class=\"graph\" transform=\"scale(1 1) rotate(0) translate(4 191)\">\n<title>Tree</title>\n<polygon fill=\"white\" stroke=\"transparent\" points=\"-4,4 -4,-191 240,-191 240,4 -4,4\"/>\n<!-- 0 -->\n<g id=\"node1\" class=\"node\">\n<title>0</title>\n<path fill=\"#9dcef2\" stroke=\"black\" d=\"M199.5,-187C199.5,-187 40.5,-187 40.5,-187 34.5,-187 28.5,-181 28.5,-175 28.5,-175 28.5,-116 28.5,-116 28.5,-110 34.5,-104 40.5,-104 40.5,-104 199.5,-104 199.5,-104 205.5,-104 211.5,-110 211.5,-116 211.5,-116 211.5,-175 211.5,-175 211.5,-181 205.5,-187 199.5,-187\"/>\n<text text-anchor=\"middle\" x=\"120\" y=\"-171.8\" font-family=\"Helvetica,sans-Serif\" font-size=\"14.00\">MinorAxisLength &lt;= 56.756</text>\n<text text-anchor=\"middle\" x=\"120\" y=\"-156.8\" font-family=\"Helvetica,sans-Serif\" font-size=\"14.00\">gini = 0.446</text>\n<text text-anchor=\"middle\" x=\"120\" y=\"-141.8\" font-family=\"Helvetica,sans-Serif\" font-size=\"14.00\">samples = 200</text>\n<text text-anchor=\"middle\" x=\"120\" y=\"-126.8\" font-family=\"Helvetica,sans-Serif\" font-size=\"14.00\">value = [67, 133]</text>\n<text text-anchor=\"middle\" x=\"120\" y=\"-111.8\" font-family=\"Helvetica,sans-Serif\" font-size=\"14.00\">class = Jasmine</text>\n</g>\n<!-- 1 -->\n<g id=\"node2\" class=\"node\">\n<title>1</title>\n<path fill=\"#399de5\" stroke=\"black\" d=\"M102,-68C102,-68 12,-68 12,-68 6,-68 0,-62 0,-56 0,-56 0,-12 0,-12 0,-6 6,0 12,0 12,0 102,0 102,0 108,0 114,-6 114,-12 114,-12 114,-56 114,-56 114,-62 108,-68 102,-68\"/>\n<text text-anchor=\"middle\" x=\"57\" y=\"-52.8\" font-family=\"Helvetica,sans-Serif\" font-size=\"14.00\">gini = 0.0</text>\n<text text-anchor=\"middle\" x=\"57\" y=\"-37.8\" font-family=\"Helvetica,sans-Serif\" font-size=\"14.00\">samples = 133</text>\n<text text-anchor=\"middle\" x=\"57\" y=\"-22.8\" font-family=\"Helvetica,sans-Serif\" font-size=\"14.00\">value = [0, 133]</text>\n<text text-anchor=\"middle\" x=\"57\" y=\"-7.8\" font-family=\"Helvetica,sans-Serif\" font-size=\"14.00\">class = Jasmine</text>\n</g>\n<!-- 0&#45;&gt;1 -->\n<g id=\"edge1\" class=\"edge\">\n<title>0&#45;&gt;1</title>\n<path fill=\"none\" stroke=\"black\" d=\"M96.54,-103.73C91.56,-95.06 86.28,-85.9 81.27,-77.18\"/>\n<polygon fill=\"black\" stroke=\"black\" points=\"84.18,-75.22 76.16,-68.3 78.11,-78.71 84.18,-75.22\"/>\n<text text-anchor=\"middle\" x=\"69.65\" y=\"-88.74\" font-family=\"Helvetica,sans-Serif\" font-size=\"14.00\">True</text>\n</g>\n<!-- 2 -->\n<g id=\"node3\" class=\"node\">\n<title>2</title>\n<path fill=\"#e58139\" stroke=\"black\" d=\"M224,-68C224,-68 144,-68 144,-68 138,-68 132,-62 132,-56 132,-56 132,-12 132,-12 132,-6 138,0 144,0 144,0 224,0 224,0 230,0 236,-6 236,-12 236,-12 236,-56 236,-56 236,-62 230,-68 224,-68\"/>\n<text text-anchor=\"middle\" x=\"184\" y=\"-52.8\" font-family=\"Helvetica,sans-Serif\" font-size=\"14.00\">gini = 0.0</text>\n<text text-anchor=\"middle\" x=\"184\" y=\"-37.8\" font-family=\"Helvetica,sans-Serif\" font-size=\"14.00\">samples = 67</text>\n<text text-anchor=\"middle\" x=\"184\" y=\"-22.8\" font-family=\"Helvetica,sans-Serif\" font-size=\"14.00\">value = [67, 0]</text>\n<text text-anchor=\"middle\" x=\"184\" y=\"-7.8\" font-family=\"Helvetica,sans-Serif\" font-size=\"14.00\">class = Gonen</text>\n</g>\n<!-- 0&#45;&gt;2 -->\n<g id=\"edge2\" class=\"edge\">\n<title>0&#45;&gt;2</title>\n<path fill=\"none\" stroke=\"black\" d=\"M143.83,-103.73C148.9,-95.06 154.25,-85.9 159.35,-77.18\"/>\n<polygon fill=\"black\" stroke=\"black\" points=\"162.51,-78.7 164.54,-68.3 156.47,-75.17 162.51,-78.7\"/>\n<text text-anchor=\"middle\" x=\"170.88\" y=\"-88.78\" font-family=\"Helvetica,sans-Serif\" font-size=\"14.00\">False</text>\n</g>\n</g>\n</svg>\n",
            "text/plain": [
              "<graphviz.sources.Source at 0x7c6858224d60>"
            ]
          },
          "metadata": {},
          "execution_count": 6
        }
      ]
    },
    {
      "cell_type": "code",
      "execution_count": 7,
      "metadata": {
        "ExecuteTime": {
          "end_time": "2022-08-22T16:07:54.081884Z",
          "start_time": "2022-08-22T16:07:54.075880Z"
        },
        "colab": {
          "base_uri": "https://localhost:8080/"
        },
        "id": "nzfFquJI7GO5",
        "outputId": "869a6997-b8cb-4d9f-d4ee-ee9c951342db"
      },
      "outputs": [
        {
          "output_type": "stream",
          "name": "stdout",
          "text": [
            "[1]\n"
          ]
        }
      ],
      "source": [
        "# Поэкспериментируем с визуализацией деревьев...\n",
        "# max_features = 2, max_depth = 3\n",
        "dtc = DecisionTreeClassifier(max_depth=1,\n",
        "                             random_state=21,\n",
        "                             max_features=2)\n",
        "# Обучаем\n",
        "dtc.fit(dX.values, dy)\n",
        "# Предсказываем\n",
        "res = dtc.predict([[7834,144.5051815,69.81911157,0.8755365942,8010,99.77908606,0.7779211823,353.898,0.6666629681,2.061524457]])\n",
        "print(res)"
      ]
    },
    {
      "cell_type": "code",
      "source": [
        "dot_data = tree.export_graphviz(dtc,\n",
        "                     feature_names=dX.columns,\n",
        "                     class_names=(\"Gonen\",\"Jasmine\"),\n",
        "                     out_file=None,\n",
        "                     filled=True, rounded=True)\n",
        "graph = graphviz.Source(dot_data)\n",
        "graph"
      ],
      "metadata": {
        "id": "ANJANXOcVshn",
        "outputId": "2e209f92-6cec-4952-dca1-888ee84d23d5",
        "colab": {
          "base_uri": "https://localhost:8080/",
          "height": 281
        }
      },
      "execution_count": 8,
      "outputs": [
        {
          "output_type": "execute_result",
          "data": {
            "image/svg+xml": "<?xml version=\"1.0\" encoding=\"UTF-8\" standalone=\"no\"?>\n<!DOCTYPE svg PUBLIC \"-//W3C//DTD SVG 1.1//EN\"\n \"http://www.w3.org/Graphics/SVG/1.1/DTD/svg11.dtd\">\n<!-- Generated by graphviz version 2.43.0 (0)\n -->\n<!-- Title: Tree Pages: 1 -->\n<svg width=\"266pt\" height=\"195pt\"\n viewBox=\"0.00 0.00 265.50 195.00\" xmlns=\"http://www.w3.org/2000/svg\" xmlns:xlink=\"http://www.w3.org/1999/xlink\">\n<g id=\"graph0\" class=\"graph\" transform=\"scale(1 1) rotate(0) translate(4 191)\">\n<title>Tree</title>\n<polygon fill=\"white\" stroke=\"transparent\" points=\"-4,4 -4,-191 261.5,-191 261.5,4 -4,4\"/>\n<!-- 0 -->\n<g id=\"node1\" class=\"node\">\n<title>0</title>\n<path fill=\"#9dcef2\" stroke=\"black\" d=\"M192,-187C192,-187 60,-187 60,-187 54,-187 48,-181 48,-175 48,-175 48,-116 48,-116 48,-110 54,-104 60,-104 60,-104 192,-104 192,-104 198,-104 204,-110 204,-116 204,-116 204,-175 204,-175 204,-181 198,-187 192,-187\"/>\n<text text-anchor=\"middle\" x=\"126\" y=\"-171.8\" font-family=\"Helvetica,sans-Serif\" font-size=\"14.00\">ConvexArea &lt;= 6952.5</text>\n<text text-anchor=\"middle\" x=\"126\" y=\"-156.8\" font-family=\"Helvetica,sans-Serif\" font-size=\"14.00\">gini = 0.446</text>\n<text text-anchor=\"middle\" x=\"126\" y=\"-141.8\" font-family=\"Helvetica,sans-Serif\" font-size=\"14.00\">samples = 200</text>\n<text text-anchor=\"middle\" x=\"126\" y=\"-126.8\" font-family=\"Helvetica,sans-Serif\" font-size=\"14.00\">value = [67, 133]</text>\n<text text-anchor=\"middle\" x=\"126\" y=\"-111.8\" font-family=\"Helvetica,sans-Serif\" font-size=\"14.00\">class = Jasmine</text>\n</g>\n<!-- 1 -->\n<g id=\"node2\" class=\"node\">\n<title>1</title>\n<path fill=\"#3fa0e6\" stroke=\"black\" d=\"M102,-68C102,-68 12,-68 12,-68 6,-68 0,-62 0,-56 0,-56 0,-12 0,-12 0,-6 6,0 12,0 12,0 102,0 102,0 108,0 114,-6 114,-12 114,-12 114,-56 114,-56 114,-62 108,-68 102,-68\"/>\n<text text-anchor=\"middle\" x=\"57\" y=\"-52.8\" font-family=\"Helvetica,sans-Serif\" font-size=\"14.00\">gini = 0.059</text>\n<text text-anchor=\"middle\" x=\"57\" y=\"-37.8\" font-family=\"Helvetica,sans-Serif\" font-size=\"14.00\">samples = 131</text>\n<text text-anchor=\"middle\" x=\"57\" y=\"-22.8\" font-family=\"Helvetica,sans-Serif\" font-size=\"14.00\">value = [4, 127]</text>\n<text text-anchor=\"middle\" x=\"57\" y=\"-7.8\" font-family=\"Helvetica,sans-Serif\" font-size=\"14.00\">class = Jasmine</text>\n</g>\n<!-- 0&#45;&gt;1 -->\n<g id=\"edge1\" class=\"edge\">\n<title>0&#45;&gt;1</title>\n<path fill=\"none\" stroke=\"black\" d=\"M100.31,-103.73C94.79,-94.97 88.95,-85.7 83.41,-76.91\"/>\n<polygon fill=\"black\" stroke=\"black\" points=\"86.28,-74.89 77.98,-68.3 80.35,-78.63 86.28,-74.89\"/>\n<text text-anchor=\"middle\" x=\"72.45\" y=\"-88.98\" font-family=\"Helvetica,sans-Serif\" font-size=\"14.00\">True</text>\n</g>\n<!-- 2 -->\n<g id=\"node3\" class=\"node\">\n<title>2</title>\n<path fill=\"#e78d4c\" stroke=\"black\" d=\"M245.5,-68C245.5,-68 144.5,-68 144.5,-68 138.5,-68 132.5,-62 132.5,-56 132.5,-56 132.5,-12 132.5,-12 132.5,-6 138.5,0 144.5,0 144.5,0 245.5,0 245.5,0 251.5,0 257.5,-6 257.5,-12 257.5,-12 257.5,-56 257.5,-56 257.5,-62 251.5,-68 245.5,-68\"/>\n<text text-anchor=\"middle\" x=\"195\" y=\"-52.8\" font-family=\"Helvetica,sans-Serif\" font-size=\"14.00\">gini = 0.159</text>\n<text text-anchor=\"middle\" x=\"195\" y=\"-37.8\" font-family=\"Helvetica,sans-Serif\" font-size=\"14.00\">samples = 69</text>\n<text text-anchor=\"middle\" x=\"195\" y=\"-22.8\" font-family=\"Helvetica,sans-Serif\" font-size=\"14.00\">value = [63.0, 6.0]</text>\n<text text-anchor=\"middle\" x=\"195\" y=\"-7.8\" font-family=\"Helvetica,sans-Serif\" font-size=\"14.00\">class = Gonen</text>\n</g>\n<!-- 0&#45;&gt;2 -->\n<g id=\"edge2\" class=\"edge\">\n<title>0&#45;&gt;2</title>\n<path fill=\"none\" stroke=\"black\" d=\"M151.69,-103.73C157.21,-94.97 163.05,-85.7 168.59,-76.91\"/>\n<polygon fill=\"black\" stroke=\"black\" points=\"171.65,-78.63 174.02,-68.3 165.72,-74.89 171.65,-78.63\"/>\n<text text-anchor=\"middle\" x=\"179.55\" y=\"-88.98\" font-family=\"Helvetica,sans-Serif\" font-size=\"14.00\">False</text>\n</g>\n</g>\n</svg>\n",
            "text/plain": [
              "<graphviz.sources.Source at 0x7c6857302da0>"
            ]
          },
          "metadata": {},
          "execution_count": 8
        }
      ]
    },
    {
      "cell_type": "markdown",
      "source": [
        "Построим границы решений для модели"
      ],
      "metadata": {
        "id": "MBWAD3wIA4HW"
      }
    },
    {
      "cell_type": "code",
      "source": [
        "# Палитры\n",
        "print(sorted(list(plt.colormaps)))"
      ],
      "metadata": {
        "colab": {
          "base_uri": "https://localhost:8080/"
        },
        "id": "Y2Gdo6zBQrp_",
        "outputId": "4de3295b-64b7-44e8-e13b-e216d97e7b09"
      },
      "execution_count": 14,
      "outputs": [
        {
          "output_type": "stream",
          "name": "stdout",
          "text": [
            "['Accent', 'Accent_r', 'Blues', 'Blues_r', 'BrBG', 'BrBG_r', 'BuGn', 'BuGn_r', 'BuPu', 'BuPu_r', 'CMRmap', 'CMRmap_r', 'Dark2', 'Dark2_r', 'GnBu', 'GnBu_r', 'Grays', 'Greens', 'Greens_r', 'Greys', 'Greys_r', 'OrRd', 'OrRd_r', 'Oranges', 'Oranges_r', 'PRGn', 'PRGn_r', 'Paired', 'Paired_r', 'Pastel1', 'Pastel1_r', 'Pastel2', 'Pastel2_r', 'PiYG', 'PiYG_r', 'PuBu', 'PuBuGn', 'PuBuGn_r', 'PuBu_r', 'PuOr', 'PuOr_r', 'PuRd', 'PuRd_r', 'Purples', 'Purples_r', 'RdBu', 'RdBu_r', 'RdGy', 'RdGy_r', 'RdPu', 'RdPu_r', 'RdYlBu', 'RdYlBu_r', 'RdYlGn', 'RdYlGn_r', 'Reds', 'Reds_r', 'Set1', 'Set1_r', 'Set2', 'Set2_r', 'Set3', 'Set3_r', 'Spectral', 'Spectral_r', 'Wistia', 'Wistia_r', 'YlGn', 'YlGnBu', 'YlGnBu_r', 'YlGn_r', 'YlOrBr', 'YlOrBr_r', 'YlOrRd', 'YlOrRd_r', 'afmhot', 'afmhot_r', 'autumn', 'autumn_r', 'binary', 'binary_r', 'bone', 'bone_r', 'brg', 'brg_r', 'bwr', 'bwr_r', 'cividis', 'cividis_r', 'cool', 'cool_r', 'coolwarm', 'coolwarm_r', 'copper', 'copper_r', 'crest', 'crest_r', 'cubehelix', 'cubehelix_r', 'flag', 'flag_r', 'flare', 'flare_r', 'gist_earth', 'gist_earth_r', 'gist_gray', 'gist_gray_r', 'gist_grey', 'gist_heat', 'gist_heat_r', 'gist_ncar', 'gist_ncar_r', 'gist_rainbow', 'gist_rainbow_r', 'gist_stern', 'gist_stern_r', 'gist_yarg', 'gist_yarg_r', 'gist_yerg', 'gnuplot', 'gnuplot2', 'gnuplot2_r', 'gnuplot_r', 'gray', 'gray_r', 'grey', 'hot', 'hot_r', 'hsv', 'hsv_r', 'icefire', 'icefire_r', 'inferno', 'inferno_r', 'jet', 'jet_r', 'magma', 'magma_r', 'mako', 'mako_r', 'nipy_spectral', 'nipy_spectral_r', 'ocean', 'ocean_r', 'pink', 'pink_r', 'plasma', 'plasma_r', 'prism', 'prism_r', 'rainbow', 'rainbow_r', 'rocket', 'rocket_r', 'seismic', 'seismic_r', 'spring', 'spring_r', 'summer', 'summer_r', 'tab10', 'tab10_r', 'tab20', 'tab20_r', 'tab20b', 'tab20b_r', 'tab20c', 'tab20c_r', 'terrain', 'terrain_r', 'turbo', 'turbo_r', 'twilight', 'twilight_r', 'twilight_shifted', 'twilight_shifted_r', 'viridis', 'viridis_r', 'vlag', 'vlag_r', 'winter', 'winter_r']\n"
          ]
        }
      ]
    },
    {
      "cell_type": "code",
      "source": [
        "\n",
        "# Настройки для визуализации\n",
        "plot_markers = ['r*', 'g^']  # Маркеры для классов 0 и 1\n",
        "answers = dy.unique()  # Классы в целевой переменной\n",
        "labels = dX.columns.values  # Названия признаков\n",
        "\n",
        "# Создаем подграфики для каждой пары признаков\n",
        "f, places = plt.subplots(4, 4, figsize=(16, 16))\n",
        "\n",
        "# Определяем минимумы и максимумы для сетки\n",
        "fmin = dX.min().values - 0.5\n",
        "fmax = dX.max().values + 0.5\n",
        "plot_step = 0.02\n",
        "\n",
        "# Обходим все subplot\n",
        "for i in range(0, 4):\n",
        "    for j in range(0, 4):\n",
        "\n",
        "        # Строим решающие границы\n",
        "        if i != j:\n",
        "            xx, yy = np.meshgrid(np.arange(fmin[i], fmax[i], plot_step, dtype=float),\n",
        "                                 np.arange(fmin[j], fmax[j], plot_step, dtype=float))\n",
        "            # Обучаем модель на паре признаков\n",
        "            model = DecisionTreeClassifier(max_depth=2, random_state=21, max_features=3)\n",
        "            model.fit(dX.iloc[:, [i, j]].values, dy.values)\n",
        "            # Предсказания для сетки\n",
        "            p = model.predict(np.c_[xx.ravel(), yy.ravel()])\n",
        "            p = p.reshape(xx.shape)\n",
        "            places[i, j].contourf(xx, yy, p, cmap=plt.cm.Pastel2, alpha=0.5)\n",
        "\n",
        "        # Обход всех классов (Вывод обучающей выборки)\n",
        "        for id_answer in range(len(answers)):\n",
        "            # Фильтруем индексы по классу\n",
        "            idx = dy == answers[id_answer]\n",
        "            if i == j:\n",
        "                # Гистограмма на диагонали\n",
        "                places[i, j].hist(dX.loc[idx, dX.columns[i]],\n",
        "                                  color=plot_markers[id_answer][0],\n",
        "                                  histtype='step')\n",
        "            else:\n",
        "                # Точки для классов\n",
        "                places[i, j].plot(dX.loc[idx, dX.columns[i]], dX.loc[idx, dX.columns[j]],\n",
        "                                  plot_markers[id_answer],\n",
        "                                  label=f'Class {answers[id_answer]}', markersize=6)\n",
        "\n",
        "        # Установка подписей осей\n",
        "        if j == 0:\n",
        "            places[i, j].set_ylabel(labels[i])\n",
        "\n",
        "        if i == 3:\n",
        "            places[i, j].set_xlabel(labels[j])\n",
        "\n"
      ],
      "metadata": {
        "id": "h3yDQGfjOjNb"
      },
      "execution_count": null,
      "outputs": []
    }
  ],
  "metadata": {
    "kernelspec": {
      "display_name": "Python 3",
      "language": "python",
      "name": "python3"
    },
    "language_info": {
      "codemirror_mode": {
        "name": "ipython",
        "version": 3
      },
      "file_extension": ".py",
      "mimetype": "text/x-python",
      "name": "python",
      "nbconvert_exporter": "python",
      "pygments_lexer": "ipython3",
      "version": "3.6.6"
    },
    "toc": {
      "base_numbering": 1,
      "nav_menu": {},
      "number_sections": true,
      "sideBar": true,
      "skip_h1_title": false,
      "title_cell": "Table of Contents",
      "title_sidebar": "Contents",
      "toc_cell": false,
      "toc_position": {},
      "toc_section_display": true,
      "toc_window_display": false
    },
    "colab": {
      "provenance": [],
      "include_colab_link": true
    }
  },
  "nbformat": 4,
  "nbformat_minor": 0
}