{
  "nbformat": 4,
  "nbformat_minor": 0,
  "metadata": {
    "colab": {
      "provenance": [],
      "include_colab_link": true
    },
    "kernelspec": {
      "name": "python3",
      "display_name": "Python 3"
    },
    "language_info": {
      "name": "python"
    }
  },
  "cells": [
    {
      "cell_type": "markdown",
      "metadata": {
        "id": "view-in-github",
        "colab_type": "text"
      },
      "source": [
        "<a href=\"https://colab.research.google.com/github/nserdyukov/AIPD/blob/main/%D0%9B%D0%A04_%D0%A1%D0%B5%D1%80%D0%B4%D1%8E%D0%BA%D0%BE%D0%B2.ipynb\" target=\"_parent\"><img src=\"https://colab.research.google.com/assets/colab-badge.svg\" alt=\"Open In Colab\"/></a>"
      ]
    },
    {
      "cell_type": "markdown",
      "source": [
        "# Практическая работа 4. Данные в формате CSV"
      ],
      "metadata": {
        "id": "C3DZeo7xi2HL"
      }
    },
    {
      "cell_type": "markdown",
      "source": [
        "## Анализ задания, получение данных"
      ],
      "metadata": {
        "id": "RGlwZaXQrAfd"
      }
    },
    {
      "cell_type": "markdown",
      "source": [
        "Файл p4_data_24.csv расположен репозитории. Выполним копирование файла в локальное хранилище Google Colab, используя следующую команду:"
      ],
      "metadata": {
        "id": "dusmGf0PoHeU"
      }
    },
    {
      "cell_type": "code",
      "execution_count": null,
      "metadata": {
        "id": "GRcewQyGh7dD",
        "colab": {
          "base_uri": "https://localhost:8080/"
        },
        "outputId": "995c277e-b516-41b1-b06e-002f95d2dea5"
      },
      "outputs": [
        {
          "output_type": "stream",
          "name": "stdout",
          "text": [
            "--2024-11-14 07:41:52--  https://raw.githubusercontent.com/enikolaev/IT-and-Programming/refs/heads/main/data/pract4/p4_data_24.csv\n",
            "Resolving raw.githubusercontent.com (raw.githubusercontent.com)... 185.199.109.133, 185.199.111.133, 185.199.110.133, ...\n",
            "Connecting to raw.githubusercontent.com (raw.githubusercontent.com)|185.199.109.133|:443... connected.\n",
            "HTTP request sent, awaiting response... 200 OK\n",
            "Length: 47662 (47K) [text/plain]\n",
            "Saving to: ‘p4_data_24.csv’\n",
            "\n",
            "p4_data_24.csv      100%[===================>]  46.54K  --.-KB/s    in 0.01s   \n",
            "\n",
            "2024-11-14 07:41:53 (3.60 MB/s) - ‘p4_data_24.csv’ saved [47662/47662]\n",
            "\n"
          ]
        }
      ],
      "source": [
        "!wget https://raw.githubusercontent.com/enikolaev/IT-and-Programming/refs/heads/main/data/pract4/p4_data_24.csv\n"
      ]
    },
    {
      "cell_type": "code",
      "source": [
        "import csv\n",
        "\n",
        "# Открываем файл для чтения\n",
        "with open('p4_data_24.csv', newline='', encoding='utf-8') as F:\n",
        "    # Создаем объект для чтения CSV файла\n",
        "    reader = csv.reader(F)\n",
        "\n",
        "    # Читаем заголовки\n",
        "    header = next(reader)\n",
        "\n",
        "    # список всех клиентов\n",
        "    all_clients = []\n",
        "\n",
        "    # Читаем остальные строки\n",
        "    for row in reader:\n",
        "        client = {} # создаем пустой словарь\n",
        "        for i, key in enumerate(header): # обходим все заголовки\n",
        "            client[key] = row[i] # добавляем в словарь ключ:значение\n",
        "\n",
        "        # конвертируем цену в число с плавающей точкой\n",
        "        client['Price'] = float(client['Price'][1:])\n",
        "\n",
        "        # добавляем клиента в список\n",
        "        all_clients.append(client)\n",
        "\n",
        "# печатаем первых 10 клиентов\n",
        "print(all_clients[:10])"
      ],
      "metadata": {
        "colab": {
          "base_uri": "https://localhost:8080/"
        },
        "id": "2cjhX1fQiQFO",
        "outputId": "a7c256e4-b232-4259-b612-36a110f4e999"
      },
      "execution_count": null,
      "outputs": [
        {
          "output_type": "stream",
          "name": "stdout",
          "text": [
            "[{'ID': '1', 'Name': 'Fish - Atlantic Salmon, Cold', 'Category': 'D', 'Count': '16', 'Price': 60.49, 'OutOfDate': 'true', 'WithDiscount': 'true'}, {'ID': '2', 'Name': 'Sauce - Cranberry', 'Category': 'B', 'Count': '26', 'Price': 19.52, 'OutOfDate': 'true', 'WithDiscount': 'true'}, {'ID': '3', 'Name': 'Pan Grease', 'Category': 'D', 'Count': '22', 'Price': 20.87, 'OutOfDate': '', 'WithDiscount': 'true'}, {'ID': '4', 'Name': 'Coffee Guatemala Dark', 'Category': 'A', 'Count': '10', 'Price': 31.81, 'OutOfDate': '', 'WithDiscount': 'true'}, {'ID': '5', 'Name': 'Wine - Carmenere Casillero Del', 'Category': '', 'Count': '22', 'Price': 75.15, 'OutOfDate': 'false', 'WithDiscount': ''}, {'ID': '6', 'Name': 'Olives - Black, Pitted', 'Category': '', 'Count': '5', 'Price': 95.04, 'OutOfDate': '', 'WithDiscount': ''}, {'ID': '7', 'Name': 'Tea Leaves - Oolong', 'Category': 'B', 'Count': '17', 'Price': 37.78, 'OutOfDate': '', 'WithDiscount': ''}, {'ID': '8', 'Name': 'Wine - Prem Select Charddonany', 'Category': 'A', 'Count': '7', 'Price': 26.36, 'OutOfDate': 'false', 'WithDiscount': 'false'}, {'ID': '9', 'Name': 'Corn Meal', 'Category': 'C', 'Count': '15', 'Price': 95.68, 'OutOfDate': 'false', 'WithDiscount': 'false'}, {'ID': '10', 'Name': 'Ginger - Fresh', 'Category': 'A', 'Count': '29', 'Price': 70.55, 'OutOfDate': 'false', 'WithDiscount': ''}]\n"
          ]
        }
      ]
    },
    {
      "cell_type": "code",
      "source": [
        "max_profit=0\n",
        "\n",
        "for client in all_clients:\n",
        "  if client['OutOfDate'] == \"true\" and client['Price'] > max_profit:\n",
        "    max_profit = client['Price']\n",
        "\n",
        "print('Максимальная цена: ', max_profit)"
      ],
      "metadata": {
        "colab": {
          "base_uri": "https://localhost:8080/"
        },
        "id": "jqtDTgfAtyY4",
        "outputId": "a1155508-fc8e-40e6-82e1-139908c93419"
      },
      "execution_count": null,
      "outputs": [
        {
          "output_type": "stream",
          "name": "stdout",
          "text": [
            "Максимальная цена:  99.76\n"
          ]
        }
      ]
    },
    {
      "cell_type": "code",
      "source": [
        "count=0\n",
        "\n",
        "for client in all_clients:\n",
        "  if client['Category'] == \"\":\n",
        "    count += 1\n",
        "\n",
        "print('Кол-во товаров без категории: ', count)"
      ],
      "metadata": {
        "colab": {
          "base_uri": "https://localhost:8080/"
        },
        "id": "jKg3enJnxUkg",
        "outputId": "2ec4b861-fc83-4d8e-8e42-eadb994e3b11"
      },
      "execution_count": null,
      "outputs": [
        {
          "output_type": "stream",
          "name": "stdout",
          "text": [
            "Кол-во товаров без категории:  208\n"
          ]
        }
      ]
    },
    {
      "cell_type": "code",
      "source": [
        "max_A = 0\n",
        "max_B = 0\n",
        "max_C = 0\n",
        "max_D = 0\n",
        "\n",
        "for client in all_clients:\n",
        "  if client['Category'] == \"A\" and client['Price'] > max_A:\n",
        "    max_A = client['Price']\n",
        "  elif client['Category'] == \"B\" and client['Price'] > max_B:\n",
        "    max_B = client['Price']\n",
        "  elif client['Category'] == \"C\" and client['Price'] > max_C:\n",
        "    max_C = client['Price']\n",
        "  elif client['Category'] == \"D\" and client['Price'] > max_D:\n",
        "    max_D = client['Price']\n",
        "\n",
        "print('Максимальная цена для категории: А = ', max_A, \", B = \", max_B, \",C = \", max_C, \",D = \", max_D)"
      ],
      "metadata": {
        "colab": {
          "base_uri": "https://localhost:8080/"
        },
        "id": "zcIfvtEmxvmQ",
        "outputId": "a53e0bc6-3949-49b5-8f08-01fcc5b9558e"
      },
      "execution_count": null,
      "outputs": [
        {
          "output_type": "stream",
          "name": "stdout",
          "text": [
            "Максимальная цена для категории: А =  99.63 , B =  99.76 ,C =  99.86 ,D =  99.63\n"
          ]
        }
      ]
    },
    {
      "cell_type": "code",
      "source": [
        "total_volume=0\n",
        "\n",
        "for client in all_clients:\n",
        "  total_volume += client['Price'] * int(client['Count'])\n",
        "\n",
        "print('Общий объем товаров: ', round(total_volume))"
      ],
      "metadata": {
        "colab": {
          "base_uri": "https://localhost:8080/"
        },
        "id": "FvJpsurZ6FXP",
        "outputId": "674e806d-e4af-42e3-fb50-08a5c9cc2a7f"
      },
      "execution_count": null,
      "outputs": [
        {
          "output_type": "stream",
          "name": "stdout",
          "text": [
            "Общий объем товаров:  1320562\n"
          ]
        }
      ]
    }
  ]
}